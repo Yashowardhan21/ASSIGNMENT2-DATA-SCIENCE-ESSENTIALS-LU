{
 "cells": [
  {
   "cell_type": "raw",
   "metadata": {},
   "source": [
    "#ANSWER 1"
   ]
  },
  {
   "cell_type": "code",
   "execution_count": 3,
   "metadata": {},
   "outputs": [
    {
     "name": "stdout",
     "output_type": "stream",
     "text": [
      "Please enter the Total Number of List Elements: 10\n",
      "Please enter the Value of 1 Element : 2\n",
      "Please enter the Value of 2 Element : 5\n",
      "Please enter the Value of 3 Element : 8\n",
      "Please enter the Value of 4 Element : 22\n",
      "Please enter the Value of 5 Element : 55\n",
      "Please enter the Value of 6 Element : 85\n",
      "Please enter the Value of 7 Element : 75\n",
      "Please enter the Value of 8 Element : 71\n",
      "Please enter the Value of 9 Element : 51\n",
      "Please enter the Value of 10 Element : 20\n",
      "\n",
      "Even Numbers in this List are : \n",
      "2   8   22   20   "
     ]
    }
   ],
   "source": [
    "def even_numbers(NumList):\n",
    "    for j in range(Number):\n",
    "        if(NumList[j] % 2 == 0):\n",
    "            print(NumList[j], end = '   ')\n",
    "\n",
    "      \n",
    "NumList = []\n",
    "Number = int(input(\"Please enter the Total Number of List Elements: \"))\n",
    "for i in range(1, Number + 1):\n",
    "    value = int(input(\"Please enter the Value of %d Element : \" %i))\n",
    "    NumList.append(value)\n",
    "\n",
    "print(\"\\nEven Numbers in this List are : \")\n",
    "even_numbers(NumList)"
   ]
  },
  {
   "cell_type": "code",
   "execution_count": null,
   "metadata": {},
   "outputs": [],
   "source": []
  }
 ],
 "metadata": {
  "kernelspec": {
   "display_name": "Python 3",
   "language": "python",
   "name": "python3"
  },
  "language_info": {
   "codemirror_mode": {
    "name": "ipython",
    "version": 3
   },
   "file_extension": ".py",
   "mimetype": "text/x-python",
   "name": "python",
   "nbconvert_exporter": "python",
   "pygments_lexer": "ipython3",
   "version": "3.8.3"
  }
 },
 "nbformat": 4,
 "nbformat_minor": 4
}
