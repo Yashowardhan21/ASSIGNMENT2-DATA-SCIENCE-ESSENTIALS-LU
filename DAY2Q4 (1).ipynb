{
 "cells": [
  {
   "cell_type": "raw",
   "metadata": {},
   "source": []
  },
  {
   "cell_type": "code",
   "execution_count": 5,
   "metadata": {},
   "outputs": [
    {
     "name": "stdout",
     "output_type": "stream",
     "text": [
      "steps = 4\n",
      "UP 5\n",
      "DOWN 3\n",
      "LEFT 3\n",
      "RIGHT 2\n",
      "rounded distance from zero position: 2\n"
     ]
    }
   ],
   "source": [
    "#Init vars\n",
    "pos=0\n",
    "moves={\"UP\":1j,\n",
    "       \"DOWN\":-1j,\n",
    "       \"LEFT\":-1,\n",
    "       \"RIGHT\":1}\n",
    "print(\"steps = 4\")\n",
    "#Set inputs\n",
    "data=[\n",
    "    \"UP 5\",\n",
    "    \"DOWN 3\",\n",
    "    \"LEFT 3\",\n",
    "    \"RIGHT 2\"]\n",
    "\n",
    "#Move robot on valid moves\n",
    "for inp in data:\n",
    "    parts=inp.split()    \n",
    "    mv=parts[0]\n",
    "    val=parts[1]\n",
    "    print (mv, val)\n",
    "    pos += moves[mv]*int(val)\n",
    "\n",
    "#get distance     \n",
    "print('rounded distance from zero position:', round(abs(pos)))\n"
   ]
  },
  {
   "cell_type": "code",
   "execution_count": null,
   "metadata": {},
   "outputs": [],
   "source": []
  },
  {
   "cell_type": "code",
   "execution_count": null,
   "metadata": {},
   "outputs": [],
   "source": []
  }
 ],
 "metadata": {
  "kernelspec": {
   "display_name": "Python 3",
   "language": "python",
   "name": "python3"
  },
  "language_info": {
   "codemirror_mode": {
    "name": "ipython",
    "version": 3
   },
   "file_extension": ".py",
   "mimetype": "text/x-python",
   "name": "python",
   "nbconvert_exporter": "python",
   "pygments_lexer": "ipython3",
   "version": "3.8.3"
  }
 },
 "nbformat": 4,
 "nbformat_minor": 4
}
